{
 "cells": [
  {
   "cell_type": "markdown",
   "metadata": {},
   "source": [
    "Imports"
   ]
  },
  {
   "cell_type": "code",
   "execution_count": 15,
   "metadata": {},
   "outputs": [],
   "source": [
    "from PIL import Image\n",
    "import numpy as np\n",
    "import math\n",
    "import cv2\n",
    "from pylfsr import LFSR"
   ]
  },
  {
   "cell_type": "markdown",
   "metadata": {},
   "source": [
    "## Helper Functions"
   ]
  },
  {
   "cell_type": "markdown",
   "metadata": {},
   "source": [
    "- Any type to Binary Converter\n"
   ]
  },
  {
   "cell_type": "code",
   "execution_count": 16,
   "metadata": {},
   "outputs": [],
   "source": [
    "def convertToBinary(data):\n",
    "    if isinstance(data, str):\n",
    "        return ''.join([ format(ord(i), \"08b\") for i in data ])\n",
    "    elif isinstance(data, bytes) or isinstance(data, np.ndarray):\n",
    "        return [ format(i, \"08b\") for i in data ]\n",
    "    elif isinstance(data, int) or isinstance(data, np.uint8):\n",
    "        return format(data, \"08b\")\n",
    "    else:\n",
    "        raise TypeError(\"Type not supported.\")"
   ]
  },
  {
   "cell_type": "code",
   "execution_count": 17,
   "metadata": {},
   "outputs": [
    {
     "name": "stdout",
     "output_type": "stream",
     "text": [
      "['1', '0', '0', '0', '0', '0', '0', '0', '0']\n"
     ]
    }
   ],
   "source": [
    "print(list(convertToBinary(256)))"
   ]
  },
  {
   "cell_type": "markdown",
   "metadata": {},
   "source": [
    "- Binary to Decimal Converter"
   ]
  },
  {
   "cell_type": "code",
   "execution_count": 18,
   "metadata": {},
   "outputs": [],
   "source": [
    "def binaryToDecimal(binary):\n",
    "    decimal = 0\n",
    "    for bit in binary:\n",
    "        decimal = decimal*2 + int(bit)\n",
    "    return decimal"
   ]
  },
  {
   "cell_type": "markdown",
   "metadata": {},
   "source": [
    "- Convert image to matrix"
   ]
  },
  {
   "cell_type": "code",
   "execution_count": 19,
   "metadata": {},
   "outputs": [],
   "source": [
    "def getImageMatrix(imageName):\n",
    "\n",
    "    imageHandler = Image.open(imageName)\n",
    "    pixels = imageHandler.load()\n",
    "    color = 1\n",
    "    if type(pixels[0,0]) == int:\n",
    "        color = 0\n",
    "    image_size = imageHandler.size\n",
    "    \n",
    "    rows = int(image_size[0])\n",
    "    cols = int(image_size[1])\n",
    "    image_matrix = []\n",
    "    for row in range(rows):\n",
    "        current_row = []\n",
    "        for col in range(cols):\n",
    "            current_row.append(pixels[row,col])\n",
    "        image_matrix.append(current_row)\n",
    "    \n",
    "    return image_matrix, image_size, color\n"
   ]
  },
  {
   "cell_type": "markdown",
   "metadata": {},
   "source": [
    "- Extract Frames From Video"
   ]
  },
  {
   "cell_type": "code",
   "execution_count": 36,
   "metadata": {},
   "outputs": [],
   "source": [
    "def FrameCapture(path): \n",
    "  \n",
    "    vidObj = cv2.VideoCapture(path) \n",
    "    count = 0\n",
    "  \n",
    "    success = 1\n",
    "  \n",
    "    while count < 100: \n",
    "        success, image = vidObj.read()\n",
    "        if not success:\n",
    "            print(\"Video End\")\n",
    "            return  \n",
    "        count += 1\n",
    "    \n",
    "    cv2.imwrite(\"images/frame1.jpg\", image) \n",
    "\n",
    "    while count < 200: \n",
    "        success, image = vidObj.read() \n",
    "        if not success:\n",
    "            print(\"Video End\")\n",
    "            return \n",
    "        count += 1\n",
    "\n",
    "    cv2.imwrite(\"images/frame2.jpg\", image) \n",
    "\n",
    "    while count < 300: \n",
    "        success, image = vidObj.read() \n",
    "        if not success:\n",
    "            print(\"Video End\")\n",
    "            return \n",
    "        count += 1\n",
    "\n",
    "    cv2.imwrite(\"images/frame3.jpg\", image) \n",
    "\n",
    "    while count < 400: \n",
    "        success, image = vidObj.read() \n",
    "        if not success:\n",
    "            print(\"Video End\")\n",
    "            return \n",
    "        count += 1\n",
    "\n",
    "    cv2.imwrite(\"images/frame4.jpg\", image) \n",
    "\n",
    "\n",
    "    "
   ]
  },
  {
   "cell_type": "code",
   "execution_count": 37,
   "metadata": {},
   "outputs": [],
   "source": [
    "FrameCapture(\"images/original_video.mp4\")"
   ]
  },
  {
   "cell_type": "markdown",
   "metadata": {},
   "source": [
    "## 1D Chaotic Map"
   ]
  },
  {
   "cell_type": "markdown",
   "metadata": {},
   "source": [
    "- Logistic Map"
   ]
  },
  {
   "cell_type": "code",
   "execution_count": 22,
   "metadata": {},
   "outputs": [],
   "source": [
    "def LogisticMap(dimension, key, k):\n",
    "    \n",
    "    x = key\n",
    "    a = 3.6\n",
    "\n",
    "    bitSequence = []\n",
    "    matrix = []\n",
    "\n",
    "    for i in range(dimension * k):\n",
    "        x_next = a * x * (1 - x) \n",
    "        x = x_next\n",
    "        if x <= 0.4:\n",
    "            bit = 0\n",
    "        else:\n",
    "            bit = 1\n",
    "\n",
    "        bitSequence.append(bit) \n",
    "\n",
    "        # If Bit Sequence has k bits, convert it to decimal and add it to Byte Sequence.\n",
    "        if i % k == k - 1:\n",
    "            decimal = binaryToDecimal(bitSequence)\n",
    "            matrix.append(decimal)\n",
    "            bitSequence = []\n",
    "\n",
    "    return matrix"
   ]
  },
  {
   "cell_type": "code",
   "execution_count": 33,
   "metadata": {},
   "outputs": [
    {
     "name": "stdout",
     "output_type": "stream",
     "text": [
      "[14, 14, 14, 14, 14, 14]\n"
     ]
    }
   ],
   "source": [
    "print(LogisticMap(6, 0.6, 4))"
   ]
  },
  {
   "cell_type": "markdown",
   "metadata": {},
   "source": [
    "## 2D Chaotic Map"
   ]
  },
  {
   "cell_type": "markdown",
   "metadata": {},
   "source": [
    "- Hennon Map Implementation"
   ]
  },
  {
   "cell_type": "code",
   "execution_count": 24,
   "metadata": {},
   "outputs": [],
   "source": [
    "def HennonMap(dimension, key, k):\n",
    "\n",
    "    x = key[0]\n",
    "    y = key[1]\n",
    "    a = 1.4\n",
    "    b = 0.3\n",
    "\n",
    "    # Total Number of bitSequence produced\n",
    "    sequenceSize = dimension * dimension * k \n",
    "    bitSequenceSize = k\n",
    "    byteArraySize = dimension * k\n",
    "    # Each bitSequence contains k bits\n",
    "    bitSequence = []    \n",
    "    # Each byteArray contains m bitSequence\n",
    "    byteArray = []      \n",
    "    # Each matrix contains m*n byteArray\n",
    "    matrix = []\n",
    "\n",
    "    for i in range(sequenceSize):\n",
    "        x_next = y + 1 - (a * (x**2)) \n",
    "        y_next = b * x\n",
    "        x = x_next\n",
    "        y = y_next\n",
    "        if x <= 0.4:\n",
    "            bit = 0\n",
    "        else:\n",
    "            bit = 1\n",
    "\n",
    "        bitSequence.append(bit) \n",
    "\n",
    "        # If Bit Sequence has k bits, convert it to decimal and add it to Byte Sequence.\n",
    "        if i % bitSequenceSize == bitSequenceSize - 1:\n",
    "            decimal = binaryToDecimal(bitSequence)\n",
    "            byteArray.append(decimal)\n",
    "            bitSequence = []\n",
    "        \n",
    "        # If Byte Sequence has k bytes, add it to Matrix.\n",
    "        if i % byteArraySize == byteArraySize - 1:\n",
    "            matrix.append(byteArray)\n",
    "            byteArray = []\n",
    "\n",
    "    return matrix"
   ]
  },
  {
   "cell_type": "code",
   "execution_count": 25,
   "metadata": {},
   "outputs": [
    {
     "name": "stdout",
     "output_type": "stream",
     "text": [
      "[[5, 2, 1, 6], [4, 2, 4, 7], [2, 1, 2, 3], [7, 7, 5, 2]]\n"
     ]
    }
   ],
   "source": [
    "h = HennonMap(4, [0.1,0.1], 3)\n",
    "print(h)"
   ]
  },
  {
   "cell_type": "markdown",
   "metadata": {},
   "source": [
    "- Hennon Map (Binary)"
   ]
  },
  {
   "cell_type": "code",
   "execution_count": 26,
   "metadata": {},
   "outputs": [],
   "source": [
    "def HennonMapBinary(dimension, key):\n",
    "\n",
    "    rows = dimension[0]\n",
    "    cols = dimension[1]\n",
    "    x = key[0]\n",
    "    y = key[1]\n",
    "    a = 1.4\n",
    "    b = 0.3\n",
    "\n",
    "    # Total Number of bitSequence produced\n",
    "    sequenceSize = rows * cols\n",
    "    bitSequenceSize = cols\n",
    "    # Each bitSequence contains k bits\n",
    "    bitSequence = []       \n",
    "    # Each matrix contains m*n byteArray\n",
    "    matrix = []\n",
    "\n",
    "    for i in range(sequenceSize):\n",
    "        x_next = y + 1 - (a * (x**2)) \n",
    "        y_next = b * x\n",
    "        x = x_next\n",
    "        y = y_next\n",
    "        if x <= 0.4:\n",
    "            bit = 0\n",
    "        else:\n",
    "            bit = 1\n",
    "\n",
    "        bitSequence.append(bit) \n",
    "\n",
    "        # If Bit Sequence has k bits, convert it to decimal and add it to Byte Sequence.\n",
    "        if i % bitSequenceSize == bitSequenceSize - 1:\n",
    "            matrix.append(bitSequence)\n",
    "            bitSequence = []\n",
    "\n",
    "    return matrix"
   ]
  },
  {
   "cell_type": "code",
   "execution_count": 27,
   "metadata": {},
   "outputs": [
    {
     "name": "stdout",
     "output_type": "stream",
     "text": [
      "[[1, 0, 0, 1], [0, 1, 0, 1], [0, 1, 1, 1]]\n"
     ]
    }
   ],
   "source": [
    "h = HennonMapBinary([3,4], [0.1,0.2])\n",
    "print(h)"
   ]
  },
  {
   "cell_type": "markdown",
   "metadata": {},
   "source": [
    "## Encoding\n"
   ]
  },
  {
   "cell_type": "code",
   "execution_count": 40,
   "metadata": {},
   "outputs": [],
   "source": [
    "def encode(filename, hennonKey, poly):\n",
    "\n",
    "    # read the frames\n",
    "    imagehandler1 = Image.open(\"images/frame1.jpg\") \n",
    "    image1 = imagehandler1.load()\n",
    "\n",
    "    imagehandler2 = Image.open(\"images/frame2.jpg\") \n",
    "    image2 = imagehandler2.load()\n",
    "\n",
    "    imagehandler3 = Image.open(\"images/frame3.jpg\") \n",
    "    image3 = imagehandler3.load()\n",
    "\n",
    "    imagehandler4 = Image.open(\"images/frame3.jpg\") \n",
    "    image4 = imagehandler4.load()\n",
    "\n",
    "    image_size = imagehandler1.size\n",
    "\n",
    "    # Get secret data\n",
    "    filehandler = open(filename,\"r\")\n",
    "    secret_data = \"\".join(filehandler.readlines())\n",
    "\n",
    "    # convert data to binary\n",
    "    binary_secret_data = convertToBinary(secret_data)\n",
    "    data_len = len(binary_secret_data)\n",
    "\n",
    "    print(data_len)\n",
    "\n",
    "    # Build chaotic map and derive some available pixels\n",
    "    map = HennonMapBinary(image_size, hennonKey)\n",
    "\n",
    "    availablePixels = []\n",
    "\n",
    "    for i in range(image_size[0]):\n",
    "        for j in range(0,image_size[1]):\n",
    "            if map[i][j] == 1:\n",
    "                availablePixels.append([i,j,0])\n",
    "\n",
    "    # Build LFSR\n",
    "    lfsr = LFSR(initstate = [1, 1, 1], fpoly=poly, counter_start_zero=True)\n",
    "\n",
    "    index = 0\n",
    "\n",
    "    for i in range(0, data_len, 8):\n",
    "\n",
    "        # Choose an unused pixel using LFSR from Chaotic Map\n",
    "\n",
    "        index = (index + binaryToDecimal(lfsr.state)) % len(availablePixels)\n",
    "        lfsr.next()\n",
    "\n",
    "        while availablePixels[index][2] >= 2:\n",
    "            index = (index + binaryToDecimal(lfsr.state)) % len(availablePixels)\n",
    "            print(index)\n",
    "            lfsr.next()\n",
    "\n",
    "        '''\n",
    "        EACH PIXEL CAN BE USED AT MAX 3 TIMES. WE KEEP COUNT OF NUMBER OF USES AS USAGESTATE.\n",
    "\n",
    "        IF USAGESTATE IS 0: XOR 2 DATA BITS WITH 2 LSB OF RED VALUE\n",
    "        IF USAGESTATE IS 1: XOR 2 DATA BITS WITH 2 LSB OF BLUE VALUE\n",
    "        IF USAGESTATE IS 2: XOR 2 DATA BITS WITH 2 LSB OF GREEN VALUE\n",
    "        '''\n",
    "\n",
    "        row, col, usageState = availablePixels[index][0], availablePixels[index][1], availablePixels[index][2]\n",
    "        \n",
    "        # Update with Red Value\n",
    "        if usageState == 0:\n",
    "\n",
    "            # Bits i and i+1\n",
    "            value = list(convertToBinary(image1[row,col][0]))\n",
    "            value[-2] = str(int(value[-2]) ^ int(binary_secret_data[i]))\n",
    "            value[-1] = str(int(value[-1]) ^ int(binary_secret_data[i+1]))\n",
    "            value = \"\".join(value)\n",
    "            value = binaryToDecimal(value)\n",
    "            image1[row,col] = (value, image1[row,col][1], image1[row,col][2])\n",
    "\n",
    "            # Bits i+2 and i+3\n",
    "            value = list(convertToBinary(image2[row,col][0]))\n",
    "            value[-2] = str(int(value[-2]) ^ int(binary_secret_data[i+2]))\n",
    "            value[-1] = str(int(value[-1]) ^ int(binary_secret_data[i+3]))\n",
    "            value = \"\".join(value)\n",
    "            value = binaryToDecimal(value)\n",
    "            image2[row,col] = (value, image1[row,col][1], image2[row,col][2])\n",
    "\n",
    "            # Bits i+4 and i+5\n",
    "            value = list(convertToBinary(image3[row,col][0]))\n",
    "            value[-2] = str(int(value[-2]) ^ int(binary_secret_data[i+4]))\n",
    "            value[-1] = str(int(value[-1]) ^ int(binary_secret_data[i+5]))\n",
    "            value = \"\".join(value)\n",
    "            value = binaryToDecimal(value)\n",
    "            image3[row,col] = (value, image3[row,col][1], image3[row,col][2])\n",
    "\n",
    "            # Bits i+6 and i+7\n",
    "            value = list(convertToBinary(image4[row,col][0]))\n",
    "            value[-2] = str(int(value[-2]) ^ int(binary_secret_data[i+5]))\n",
    "            value[-1] = str(int(value[-1]) ^ int(binary_secret_data[i+7]))\n",
    "            value = \"\".join(value)\n",
    "            value = binaryToDecimal(value)\n",
    "            image4[row,col] = (value, image4[row,col][1], image4[row,col][2])\n",
    "\n",
    "        # Update with Blue Value\n",
    "        elif usageState == 1:\n",
    "\n",
    "            # Bits i and i+1\n",
    "            value = list(convertToBinary(image1[row,col][1]))\n",
    "            value[-2] = str(int(value[-2]) ^ int(binary_secret_data[i]))\n",
    "            value[-1] = str(int(value[-1]) ^ int(binary_secret_data[i+1]))\n",
    "            value = \"\".join(value)\n",
    "            value = binaryToDecimal(value)\n",
    "            image1[row,col] = (image1[row,col][0], value, image1[row,col][2])\n",
    "\n",
    "            # Bits i+2 and i+3\n",
    "            value = list(convertToBinary(image2[row,col][1]))\n",
    "            value[-2] = str(int(value[-2]) ^ int(binary_secret_data[i+2]))\n",
    "            value[-1] = str(int(value[-1]) ^ int(binary_secret_data[i+3]))\n",
    "            value = \"\".join(value)\n",
    "            value = binaryToDecimal(value)\n",
    "            image2[row,col] = (image2[row,col][0], value, image2[row,col][2])\n",
    "\n",
    "            # Bits i+4 and i+5\n",
    "            value = list(convertToBinary(image3[row,col][1]))\n",
    "            value[-2] = str(int(value[-2]) ^ int(binary_secret_data[i+4]))\n",
    "            value[-1] = str(int(value[-1]) ^ int(binary_secret_data[i+5]))\n",
    "            value = \"\".join(value)\n",
    "            value = binaryToDecimal(value)\n",
    "            image3[row,col] = (image3[row,col][0], value, image3[row,col][2])\n",
    "\n",
    "            # Bits i+6 and i+7\n",
    "            value = list(convertToBinary(image4[row,col][0]))\n",
    "            value[-2] = str(int(value[-2]) ^ int(binary_secret_data[i+5]))\n",
    "            value[-1] = str(int(value[-1]) ^ int(binary_secret_data[i+7]))\n",
    "            value = \"\".join(value)\n",
    "            value = binaryToDecimal(value)\n",
    "            image4[row,col] = (image4[row,col][0], value, image4[row,col][2])\n",
    "        \n",
    "        # Update with Green Value\n",
    "        else:\n",
    "\n",
    "            # Bits i and i+1\n",
    "            value = list(convertToBinary(image1[row,col][1]))\n",
    "            value[-2] = str(int(value[-2]) ^ int(binary_secret_data[i]))\n",
    "            value[-1] = str(int(value[-1]) ^ int(binary_secret_data[i+1]))\n",
    "            value = \"\".join(value)\n",
    "            value = binaryToDecimal(value)\n",
    "            image1[row,col] = (image1[row,col][0], value, image1[row,col][2])\n",
    "\n",
    "            # Bits i+2 and i+3\n",
    "            value = list(convertToBinary(image2[row,col][1]))\n",
    "            value[-2] = str(int(value[-2]) ^ int(binary_secret_data[i+2]))\n",
    "            value[-1] = str(int(value[-1]) ^ int(binary_secret_data[i+3]))\n",
    "            value = \"\".join(value)\n",
    "            value = binaryToDecimal(value)\n",
    "            image2[row,col] = (image2[row,col][0], value, image2[row,col][2])\n",
    "\n",
    "            # Bits i+4 and i+5\n",
    "            value = list(convertToBinary(image3[row,col][1]))\n",
    "            value[-2] = str(int(value[-2]) ^ int(binary_secret_data[i+4]))\n",
    "            value[-1] = str(int(value[-1]) ^ int(binary_secret_data[i+5]))\n",
    "            value = \"\".join(value)\n",
    "            value = binaryToDecimal(value)\n",
    "            image3[row,col] = (image3[row,col][0], value, image3[row,col][2])\n",
    "\n",
    "            # Bits i+6 and i+7\n",
    "            value = list(convertToBinary(image4[row,col][0]))\n",
    "            value[-2] = str(int(value[-2]) ^ int(binary_secret_data[i+5]))\n",
    "            value[-1] = str(int(value[-1]) ^ int(binary_secret_data[i+7]))\n",
    "            value = \"\".join(value)\n",
    "            value = binaryToDecimal(value)\n",
    "            image4[row,col] = (image4[row,col][0], value, image4[row,col][2])\n",
    "        \n",
    "        availablePixels[index][2] += 1\n",
    "\n",
    "    # Save the final frames.\n",
    "    imagehandler1.save(\"images\\encoded_frame1.png\", \"PNG\")\n",
    "    imagehandler2.save(\"images\\encoded_frame2.png\", \"PNG\")\n",
    "    imagehandler3.save(\"images\\encoded_frame3.png\", \"PNG\")\n",
    "    imagehandler4.save(\"images\\encoded_frame4.png\", \"PNG\")"
   ]
  },
  {
   "cell_type": "code",
   "execution_count": 41,
   "metadata": {},
   "outputs": [
    {
     "name": "stdout",
     "output_type": "stream",
     "text": [
      "88\n"
     ]
    }
   ],
   "source": [
    "encode(\"text\\input.txt\", [0.1, 0.1], [3,2])"
   ]
  }
 ],
 "metadata": {
  "kernelspec": {
   "display_name": "Python 3",
   "language": "python",
   "name": "python3"
  },
  "language_info": {
   "codemirror_mode": {
    "name": "ipython",
    "version": 3
   },
   "file_extension": ".py",
   "mimetype": "text/x-python",
   "name": "python",
   "nbconvert_exporter": "python",
   "pygments_lexer": "ipython3",
   "version": "3.10.8"
  }
 },
 "nbformat": 4,
 "nbformat_minor": 2
}
