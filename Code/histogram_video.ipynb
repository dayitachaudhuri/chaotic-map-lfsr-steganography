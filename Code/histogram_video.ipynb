{
 "cells": [
  {
   "cell_type": "code",
   "execution_count": 4,
   "metadata": {},
   "outputs": [],
   "source": [
    "import numpy as np\n",
    "import matplotlib.pyplot as plt\n",
    "import argparse\n",
    "import cv2"
   ]
  },
  {
   "cell_type": "code",
   "execution_count": null,
   "metadata": {},
   "outputs": [],
   "source": [
    "def showColorHistogram(path, outputPath):\n",
    "\n",
    "    # Load Video\n",
    "    capture = cv2.VideoCapture(path)\n",
    "    \n",
    "    # tuple to select colors of each channel line\n",
    "    colors = (\"red\", \"green\", \"blue\")\n",
    "    channel_ids = (0, 1, 2)\n",
    "\n",
    "    # create the histogram plot, with three lines, one for each color\n",
    "    plt.figure()\n",
    "    plt.xlim([0, 256])\n",
    "    for channel_id, c in zip(channel_ids, colors):\n",
    "        histogram, bin_edges = np.histogram(\n",
    "            image[:, :, channel_id], bins=256, range=(0, 256)\n",
    "        )\n",
    "        plt.plot(bin_edges[0:-1], histogram, color=c)\n",
    "\n",
    "    plt.title(\"Color Histogram\")\n",
    "    plt.xlabel(\"Color value\")\n",
    "    plt.ylabel(\"Pixel count\")\n",
    "    plt.show()\n",
    "    plt.savefig(outputPath)"
   ]
  }
 ],
 "metadata": {
  "kernelspec": {
   "display_name": ".venv",
   "language": "python",
   "name": "python3"
  },
  "language_info": {
   "codemirror_mode": {
    "name": "ipython",
    "version": 3
   },
   "file_extension": ".py",
   "mimetype": "text/x-python",
   "name": "python",
   "nbconvert_exporter": "python",
   "pygments_lexer": "ipython3",
   "version": "3.10.8"
  }
 },
 "nbformat": 4,
 "nbformat_minor": 2
}
