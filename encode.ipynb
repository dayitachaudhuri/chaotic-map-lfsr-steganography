{
 "cells": [
  {
   "cell_type": "markdown",
   "metadata": {},
   "source": [
    "Imports"
   ]
  },
  {
   "cell_type": "code",
   "execution_count": 1,
   "metadata": {},
   "outputs": [],
   "source": [
    "from PIL import Image\n",
    "import numpy as np\n",
    "import math\n",
    "from pylfsr import LFSR"
   ]
  },
  {
   "cell_type": "markdown",
   "metadata": {},
   "source": [
    "## Helper Functions"
   ]
  },
  {
   "cell_type": "markdown",
   "metadata": {},
   "source": [
    "- Any type to Binary Converter\n"
   ]
  },
  {
   "cell_type": "code",
   "execution_count": 2,
   "metadata": {},
   "outputs": [],
   "source": [
    "def convertToBinary(data):\n",
    "    if isinstance(data, str):\n",
    "        return ''.join([ format(ord(i), \"08b\") for i in data ])\n",
    "    elif isinstance(data, bytes) or isinstance(data, np.ndarray):\n",
    "        return [ format(i, \"08b\") for i in data ]\n",
    "    elif isinstance(data, int) or isinstance(data, np.uint8):\n",
    "        return format(data, \"08b\")\n",
    "    else:\n",
    "        raise TypeError(\"Type not supported.\")"
   ]
  },
  {
   "cell_type": "markdown",
   "metadata": {},
   "source": [
    "- Binary to Decimal Converter"
   ]
  },
  {
   "cell_type": "code",
   "execution_count": 3,
   "metadata": {},
   "outputs": [],
   "source": [
    "def binaryToDecimal(binary):\n",
    "    decimal = 0\n",
    "    for bit in binary:\n",
    "        decimal = decimal*2 + int(bit)\n",
    "    return decimal"
   ]
  },
  {
   "cell_type": "markdown",
   "metadata": {},
   "source": [
    "- Convert image to matrix"
   ]
  },
  {
   "cell_type": "code",
   "execution_count": 4,
   "metadata": {},
   "outputs": [],
   "source": [
    "def getImageMatrix(imageName):\n",
    "\n",
    "    imageHandler = Image.open(imageName)\n",
    "    pixels = imageHandler.load()\n",
    "    color = 1\n",
    "    if type(pixels[0,0]) == int:\n",
    "        color = 0\n",
    "    image_size = imageHandler.size\n",
    "    \n",
    "    rows = int(image_size[0])\n",
    "    cols = int(image_size[1])\n",
    "    image_matrix = []\n",
    "    for row in range(rows):\n",
    "        current_row = []\n",
    "        for col in range(cols):\n",
    "            current_row.append(pixels[row,col])\n",
    "        image_matrix.append(current_row)\n",
    "    \n",
    "    return image_matrix, image_size, color\n"
   ]
  },
  {
   "cell_type": "code",
   "execution_count": 20,
   "metadata": {},
   "outputs": [
    {
     "name": "stdout",
     "output_type": "stream",
     "text": [
      "(1000, 667)\n"
     ]
    }
   ],
   "source": [
    "img, size, color = getImageMatrix(\"images/img1.jpeg\")\n",
    "print(size)"
   ]
  },
  {
   "cell_type": "markdown",
   "metadata": {},
   "source": [
    "## 1D Chaotic Map"
   ]
  },
  {
   "cell_type": "markdown",
   "metadata": {},
   "source": [
    "- Logistic Map"
   ]
  },
  {
   "cell_type": "code",
   "execution_count": 38,
   "metadata": {},
   "outputs": [],
   "source": [
    "def LogisticMap(dimension, key, k):\n",
    "    \n",
    "    x = key\n",
    "    a = 3.6\n",
    "\n",
    "    bitSequence = []\n",
    "    matrix = []\n",
    "\n",
    "    for i in range(dimension * k):\n",
    "        x_next = a * x * (1 - x) \n",
    "        x = x_next\n",
    "        if x <= 0.4:\n",
    "            bit = 0\n",
    "        else:\n",
    "            bit = 1\n",
    "\n",
    "        bitSequence.append(bit) \n",
    "\n",
    "        # If Bit Sequence has 8 bits, convert it to decimal and add it to Byte Sequence.\n",
    "        if i % k == k - 1:\n",
    "            decimal = binaryToDecimal(bitSequence)\n",
    "            matrix.append(decimal)\n",
    "            bitSequence = []\n",
    "\n",
    "    return matrix"
   ]
  },
  {
   "cell_type": "code",
   "execution_count": 39,
   "metadata": {},
   "outputs": [
    {
     "ename": "TypeError",
     "evalue": "LogisticMap() missing 1 required positional argument: 'k'",
     "output_type": "error",
     "traceback": [
      "\u001b[1;31m---------------------------------------------------------------------------\u001b[0m",
      "\u001b[1;31mTypeError\u001b[0m                                 Traceback (most recent call last)",
      "\u001b[1;32mc:\\D\\Machine Learning\\Project\\encode.ipynb Cell 14\u001b[0m line \u001b[0;36m<module>\u001b[1;34m\u001b[0m\n\u001b[1;32m----> <a href='vscode-notebook-cell:/c%3A/D/Machine%20Learning/Project/encode.ipynb#X33sZmlsZQ%3D%3D?line=0'>1</a>\u001b[0m l \u001b[39m=\u001b[39m LogisticMap(\u001b[39m15\u001b[39;49m, \u001b[39m0.1\u001b[39;49m)\n\u001b[0;32m      <a href='vscode-notebook-cell:/c%3A/D/Machine%20Learning/Project/encode.ipynb#X33sZmlsZQ%3D%3D?line=1'>2</a>\u001b[0m \u001b[39mprint\u001b[39m(l)\n",
      "\u001b[1;31mTypeError\u001b[0m: LogisticMap() missing 1 required positional argument: 'k'"
     ]
    }
   ],
   "source": [
    "l = LogisticMap(15, 0.1, 4)\n",
    "print(l)"
   ]
  },
  {
   "cell_type": "markdown",
   "metadata": {},
   "source": [
    "## 2D Chaotic Map"
   ]
  },
  {
   "cell_type": "markdown",
   "metadata": {},
   "source": [
    "- Hennon Map Implementation"
   ]
  },
  {
   "cell_type": "code",
   "execution_count": 21,
   "metadata": {},
   "outputs": [],
   "source": [
    "def HennonMap(dimension, key, k):\n",
    "\n",
    "    x = key[0]\n",
    "    y = key[1]\n",
    "    a = 1.4\n",
    "    b = 0.3\n",
    "\n",
    "    # Total Number of bitSequence produced\n",
    "    sequenceSize = dimension * dimension * k \n",
    "    bitSequenceSize = k\n",
    "    byteArraySize = dimension * k\n",
    "    # Each bitSequence contains 8 bits\n",
    "    bitSequence = []    \n",
    "    # Each byteArray contains m bitSequence\n",
    "    byteArray = []      \n",
    "    # Each matrix contains m*n byteArray\n",
    "    matrix = []\n",
    "\n",
    "    for i in range(sequenceSize):\n",
    "        x_next = y + 1 - (1.4 * (x**2)) \n",
    "        y_next = 0.3 * x\n",
    "        x = x_next\n",
    "        y = y_next\n",
    "        if x <= 0.4:\n",
    "            bit = 0\n",
    "        else:\n",
    "            bit = 1\n",
    "\n",
    "        bitSequence.append(bit) \n",
    "\n",
    "        # If Bit Sequence has 8 bits, convert it to decimal and add it to Byte Sequence.\n",
    "        if i % bitSequenceSize == bitSequenceSize - 1:\n",
    "            decimal = binaryToDecimal(bitSequence)\n",
    "            byteArray.append(decimal)\n",
    "            bitSequence = []\n",
    "        \n",
    "        # If Byte Sequence has 8 bytes, add it to Matrix.\n",
    "        if i % byteArraySize == byteArraySize - 1:\n",
    "            matrix.append(byteArray)\n",
    "            byteArray = []\n",
    "\n",
    "    return matrix"
   ]
  },
  {
   "cell_type": "code",
   "execution_count": 23,
   "metadata": {},
   "outputs": [
    {
     "name": "stdout",
     "output_type": "stream",
     "text": [
      "[[5, 2, 1, 6], [4, 2, 4, 7], [2, 1, 2, 3], [7, 7, 5, 2]]\n"
     ]
    }
   ],
   "source": [
    "h = HennonMap(4, [0.1,0.1], 3)\n",
    "print(h)"
   ]
  },
  {
   "cell_type": "markdown",
   "metadata": {},
   "source": [
    "- Standard Chaotic Map Implementation"
   ]
  },
  {
   "cell_type": "code",
   "execution_count": 36,
   "metadata": {},
   "outputs": [],
   "source": [
    "def StandardMap(dimension, key, req):\n",
    "    \n",
    "    x = key[0]\n",
    "    y = key[1]\n",
    "    k = 2.7\n",
    "\n",
    "    # Total Number of bitSequence produced\n",
    "    sequenceSize = dimension * dimension * req\n",
    "    bitSequenceSize = req\n",
    "    byteArraySize = dimension * req\n",
    "    # Each bitSequence contains 8 bits\n",
    "    bitSequence = []    \n",
    "    # Each byteArray contains m bitSequence\n",
    "    byteArray = []      \n",
    "    # Each matrix contains m*n byteArray\n",
    "    matrix = []   \n",
    "\n",
    "    for i in range(int(sequenceSize)):\n",
    "        x_next = (x + y) % 1\n",
    "        y_next = y + k * math.sin(2 * math.pi* x_next)\n",
    "        x = x_next\n",
    "        y = y_next\n",
    "        if x <= 0.4:\n",
    "            bit = 0\n",
    "        else:\n",
    "            bit = 1\n",
    "\n",
    "        bitSequence.append(bit) \n",
    "\n",
    "        # If Bit Sequence has 8 bits, convert it to decimal and add it to Byte Sequence.\n",
    "        if i % bitSequenceSize == bitSequenceSize - 1:\n",
    "            decimal = binaryToDecimal(bitSequence)\n",
    "            byteArray.append(decimal)\n",
    "            bitSequence = []\n",
    "        \n",
    "        # If Byte Sequence has 8 bytes, add it to Matrix.\n",
    "        if i % byteArraySize == byteArraySize - 1:\n",
    "            matrix.append(byteArray)\n",
    "            byteArray = []\n",
    "\n",
    "    return matrix"
   ]
  },
  {
   "cell_type": "code",
   "execution_count": 37,
   "metadata": {},
   "outputs": [
    {
     "name": "stdout",
     "output_type": "stream",
     "text": [
      "[[7, 15, 7, 12], [12, 15, 12, 7], [0, 7, 15, 5], [13, 2, 11, 13]]\n"
     ]
    }
   ],
   "source": [
    "s = StandardMap(4, [0.1,0.1], 4)\n",
    "print(s)"
   ]
  },
  {
   "cell_type": "markdown",
   "metadata": {},
   "source": [
    "## Encoding\n"
   ]
  },
  {
   "cell_type": "code",
   "execution_count": null,
   "metadata": {},
   "outputs": [],
   "source": [
    "def encode(imageName, secret_data):\n",
    "\n",
    "    # read the image\n",
    "    image = Image.open(imageName) \n",
    "    # maximum bytes to encode\n",
    "    n_bytes = image.shape[0] * image.shape[1] * 3 // 8\n",
    "\n",
    "    if len(secret_data) > n_bytes:\n",
    "        raise ValueError(\"[!] Insufficient bytes, need bigger image or less data.\")\n",
    "    \n",
    "    # add stopping criteria\n",
    "    secret_data += \"=====\"\n",
    "    data_index = 0\n",
    "\n",
    "    # convert data to binary\n",
    "    binary_secret_data = convertToBinary(secret_data)\n",
    "    # size of data to hide\n",
    "    data_len = len(binary_secret_data)\n",
    "\n",
    "    for row in image:\n",
    "        for pixel in row:\n",
    "            # convert RGB values to binary format\n",
    "            r, g, b = convertToBinary(pixel)\n",
    "            # modify the least significant bit only if there is still data to store\n",
    "            if data_index < data_len:\n",
    "                # least significant red pixel bit\n",
    "                pixel[0] = int(r[:-1] + binary_secret_data[data_index], 2)\n",
    "                data_index += 1\n",
    "            if data_index < data_len:\n",
    "                # least significant green pixel bit\n",
    "                pixel[1] = int(g[:-1] + binary_secret_data[data_index], 2)\n",
    "                data_index += 1\n",
    "            if data_index < data_len:\n",
    "                # least significant blue pixel bit\n",
    "                pixel[2] = int(b[:-1] + binary_secret_data[data_index], 2)\n",
    "                data_index += 1\n",
    "            # if data is encoded, just break out of the loop\n",
    "            if data_index >= data_len:\n",
    "                break\n",
    "    return image"
   ]
  },
  {
   "cell_type": "code",
   "execution_count": null,
   "metadata": {},
   "outputs": [],
   "source": [
    "LF = LFSR()"
   ]
  },
  {
   "cell_type": "code",
   "execution_count": null,
   "metadata": {},
   "outputs": [],
   "source": [
    "def encrypt(imageName, key, mapType):\n",
    "\n",
    "    # Get Image Matrix\n",
    "    imageMatrix, dimension, color = getImageMatrix(imageName)\n",
    "    \n",
    "    # Get Chaotic Map\n",
    "    if mapType == \"hennon\":\n",
    "        transformationMatrix = HennonMap(dimension, key)\n",
    "    elif mapType == \"standard\":\n",
    "        transformationMatrix = StandardMap(dimension, key)\n",
    "    \n",
    "    resultantMatrix = []\n",
    "    for row in range(dimension):\n",
    "        current_row = []\n",
    "        for col in range(dimension):\n",
    "            if color:\n",
    "                current_row.append(tuple([transformationMatrix[row][col] ^ x for x in imageMatrix[row][col]]))\n",
    "            else:\n",
    "                current_row.append(transformationMatrix[row][col] ^ imageMatrix[row][col])\n",
    "        resultantMatrix.append(current_row)\n",
    "        \n",
    "    if color:\n",
    "        imageHandler = Image.new(\"RGB\", (dimension, dimension))\n",
    "    else: \n",
    "        imageHandler = Image.new(\"L\", (dimension, dimension)) # L is for Black and white pixels\n",
    "    pixels = imageHandler.load()\n",
    "    for row in range(dimension):\n",
    "        for col in range(dimension):\n",
    "            pixels[row, col] = resultantMatrix[row][col]\n",
    "    imageHandler.save(\"crenc.png\", \"PNG\")"
   ]
  }
 ],
 "metadata": {
  "kernelspec": {
   "display_name": "Python 3",
   "language": "python",
   "name": "python3"
  },
  "language_info": {
   "codemirror_mode": {
    "name": "ipython",
    "version": 3
   },
   "file_extension": ".py",
   "mimetype": "text/x-python",
   "name": "python",
   "nbconvert_exporter": "python",
   "pygments_lexer": "ipython3",
   "version": "3.10.8"
  },
  "orig_nbformat": 4
 },
 "nbformat": 4,
 "nbformat_minor": 2
}
