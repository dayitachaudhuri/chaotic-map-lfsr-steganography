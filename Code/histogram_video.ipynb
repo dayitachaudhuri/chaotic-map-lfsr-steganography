{
 "cells": [
  {
   "cell_type": "markdown",
   "metadata": {},
   "source": [
    "Imports"
   ]
  },
  {
   "cell_type": "code",
   "execution_count": 30,
   "metadata": {},
   "outputs": [],
   "source": [
    "import numpy as np\n",
    "from skimage import io\n",
    "from matplotlib import pyplot as plt \n",
    "import cv2\n"
   ]
  },
  {
   "cell_type": "markdown",
   "metadata": {},
   "source": [
    "## Color Histogram"
   ]
  },
  {
   "cell_type": "markdown",
   "metadata": {},
   "source": [
    "- Hue, Saturation and Value"
   ]
  },
  {
   "cell_type": "code",
   "execution_count": 31,
   "metadata": {},
   "outputs": [],
   "source": [
    "def showFeatureHistograms(path, outputPath):\n",
    "\n",
    "    # Load an image\n",
    "    image = cv2.imread(path)\n",
    "\n",
    "    # Convert the image to the HSV color space\n",
    "    hsv_image = cv2.cvtColor(image, cv2.COLOR_BGR2HSV)\n",
    "\n",
    "    # Calculate the color histogram\n",
    "    hist_hue = cv2.calcHist([hsv_image], [0], None, [256], [0, 256])\n",
    "    hist_saturation = cv2.calcHist([hsv_image], [1], None, [256], [0, 256])\n",
    "    hist_value = cv2.calcHist([hsv_image], [2], None, [256], [0, 256])\n",
    "\n",
    "    # Normalize the histograms\n",
    "    hist_hue = cv2.normalize(hist_hue, hist_hue, 0, 1, cv2.NORM_MINMAX)\n",
    "    hist_saturation = cv2.normalize(hist_saturation, hist_saturation, 0, 1, cv2.NORM_MINMAX)\n",
    "    hist_value = cv2.normalize(hist_value, hist_value, 0, 1, cv2.NORM_MINMAX)\n",
    "\n",
    "    # Plot the histograms\n",
    "    plt.figure(figsize=(12, 4))\n",
    "    plt.subplot(131)\n",
    "    plt.plot(hist_hue, color='r')\n",
    "    plt.title('Hue Histogram')\n",
    "    plt.xlim([0, 256])\n",
    "\n",
    "    plt.subplot(132)\n",
    "    plt.plot(hist_saturation, color='g')\n",
    "    plt.title('Saturation Histogram')\n",
    "    plt.xlim([0, 256])\n",
    "\n",
    "    plt.subplot(133)\n",
    "    plt.plot(hist_value, color='b')\n",
    "    plt.title('Value Histogram')\n",
    "    plt.xlim([0, 256])\n",
    "\n",
    "    plt.tight_layout()\n",
    "    plt.savefig(outputPath)\n",
    "    plt.close()\n"
   ]
  },
  {
   "cell_type": "markdown",
   "metadata": {},
   "source": [
    "- Individual Colour Representations of Red, Green, Blue values."
   ]
  },
  {
   "cell_type": "code",
   "execution_count": 32,
   "metadata": {},
   "outputs": [],
   "source": [
    "def showColorHistograms(path, outputPath):\n",
    "\n",
    "    # Load an image\n",
    "    image = cv2.imread(path)\n",
    "\n",
    "    # Split the image into its RGB channels\n",
    "    b, g, r = cv2.split(image)\n",
    "\n",
    "    # Calculate the color histograms for each channel\n",
    "    hist_b = cv2.calcHist([b], [0], None, [256], [0, 256])\n",
    "    hist_g = cv2.calcHist([g], [0], None, [256], [0, 256])\n",
    "    hist_r = cv2.calcHist([r], [0], None, [256], [0, 256])\n",
    "\n",
    "    # Normalize the histograms\n",
    "    hist_b = cv2.normalize(hist_b, hist_b, 0, 1, cv2.NORM_MINMAX)\n",
    "    hist_g = cv2.normalize(hist_g, hist_g, 0, 1, cv2.NORM_MINMAX)\n",
    "    hist_r = cv2.normalize(hist_r, hist_r, 0, 1, cv2.NORM_MINMAX)\n",
    "\n",
    "    # Plot the histograms\n",
    "    plt.figure(figsize=(12, 4))\n",
    "    plt.subplot(131)\n",
    "    plt.plot(hist_b, color='b')\n",
    "    plt.title('Blue Channel Histogram')\n",
    "    plt.xlim([0, 256])\n",
    "\n",
    "    plt.subplot(132)\n",
    "    plt.plot(hist_g, color='g')\n",
    "    plt.title('Green Channel Histogram')\n",
    "    plt.xlim([0, 256])\n",
    "\n",
    "    plt.subplot(133)\n",
    "    plt.plot(hist_r, color='r')\n",
    "    plt.title('Red Channel Histogram')\n",
    "    plt.xlim([0, 256])\n",
    "\n",
    "    plt.tight_layout()\n",
    "    plt.savefig(outputPath)\n",
    "    plt.close()\n"
   ]
  },
  {
   "cell_type": "markdown",
   "metadata": {},
   "source": [
    "- Combined Colour Histogram"
   ]
  },
  {
   "cell_type": "code",
   "execution_count": 33,
   "metadata": {},
   "outputs": [],
   "source": [
    "def showColorHistogramCombined(path, outputPath):\n",
    "\n",
    "    # Load Image\n",
    "    image = io.imread(path)\n",
    "    # tuple to select colors of each channel line\n",
    "    colors = (\"red\", \"green\", \"blue\")\n",
    "    channel_ids = (0, 1, 2)\n",
    "\n",
    "    # create the histogram plot, with three lines, one for each color\n",
    "    plt.figure()\n",
    "    plt.xlim([0, 256])\n",
    "    for channel_id, c in zip(channel_ids, colors):\n",
    "        histogram, bin_edges = np.histogram(\n",
    "            image[:, :, channel_id], bins=256, range=(0, 256)\n",
    "        )\n",
    "        plt.plot(bin_edges[0:-1], histogram, color=c)\n",
    "\n",
    "    plt.title(\"Color Histogram\")\n",
    "    plt.xlabel(\"Color value\")\n",
    "    plt.ylabel(\"Pixel count\")\n",
    "    plt.savefig(outputPath)\n",
    "    plt.close()\n"
   ]
  },
  {
   "cell_type": "markdown",
   "metadata": {},
   "source": [
    "## Histograms"
   ]
  },
  {
   "cell_type": "code",
   "execution_count": 34,
   "metadata": {},
   "outputs": [],
   "source": [
    "frames_used = [118, 69, 20, 123, 74, 25]\n",
    "\n",
    "for frame in frames_used:\n",
    "\n",
    "    # Original Frame Histograms\n",
    "    showColorHistograms(\"outputs/video_steg/frames/frame%s.jpg\" % frame, \"outputs/video_steg/histograms/frame%s_color_histogram.png\" % frame)\n",
    "    showColorHistogramCombined(\"outputs/video_steg/frames/frame%s.jpg\" % frame, \"outputs/video_steg/histograms/frame%s_color_histogram_combined.png\" % frame)\n",
    "    showFeatureHistograms(\"outputs/video_steg/frames/frame%s.jpg\" % frame, \"outputs/video_steg/histograms/frame%s_feature_histogram.png\" % frame)\n",
    "\n",
    "    # Encoded Frame Histograms\n",
    "    showColorHistograms(\"outputs/video_steg/frames/encoded_frame%s.jpg\" % frame, \"outputs/video_steg/histograms/encoded_frame%s_color_histogram.png\" % frame)\n",
    "    showColorHistogramCombined(\"outputs/video_steg/frames/encoded_frame%s.jpg\" % frame, \"outputs/video_steg/histograms/encoded_frame%s_color_histogram_combined.png\" % frame)\n",
    "    showFeatureHistograms(\"outputs/video_steg/frames/encoded_frame%s.jpg\" % frame, \"outputs/video_steg/histograms/encoded_frame%s_feature_histogram.png\" % frame)"
   ]
  },
  {
   "cell_type": "markdown",
   "metadata": {},
   "source": [
    "## PSNR"
   ]
  },
  {
   "cell_type": "code",
   "execution_count": 35,
   "metadata": {},
   "outputs": [],
   "source": [
    "def calculate_psnr(path1, path2, max_value=255):\n",
    "    img1 = cv2.imread(path1)\n",
    "    img2 = cv2.imread(path2)\n",
    "    mse = np.mean((np.array(img1, dtype=np.float32) - np.array(img2, dtype=np.float32)) ** 2)\n",
    "    if mse == 0:\n",
    "        return 100\n",
    "    return 20 * np.log10(max_value / (np.sqrt(mse)))"
   ]
  },
  {
   "cell_type": "code",
   "execution_count": 36,
   "metadata": {},
   "outputs": [
    {
     "name": "stdout",
     "output_type": "stream",
     "text": [
      "53.924373850866516\n",
      "54.094215433131566\n",
      "53.71498983545531\n",
      "54.09195271157769\n",
      "66.98152150692452\n"
     ]
    }
   ],
   "source": [
    "frames_used = [69, 20, 123, 74, 25]\n",
    "\n",
    "for frame in frames_used:\n",
    "    print(calculate_psnr(\"outputs/video_steg/frames/frame%s.jpg\" % frame, \"outputs/video_steg/frames/encoded_frame%s.jpg\" % frame))"
   ]
  }
 ],
 "metadata": {
  "kernelspec": {
   "display_name": ".venv",
   "language": "python",
   "name": "python3"
  },
  "language_info": {
   "codemirror_mode": {
    "name": "ipython",
    "version": 3
   },
   "file_extension": ".py",
   "mimetype": "text/x-python",
   "name": "python",
   "nbconvert_exporter": "python",
   "pygments_lexer": "ipython3",
   "version": "3.10.8"
  }
 },
 "nbformat": 4,
 "nbformat_minor": 2
}
