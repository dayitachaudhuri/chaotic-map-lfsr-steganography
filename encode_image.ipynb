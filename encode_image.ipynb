{
 "cells": [
  {
   "cell_type": "markdown",
   "metadata": {},
   "source": [
    "Imports"
   ]
  },
  {
   "cell_type": "code",
   "execution_count": 11,
   "metadata": {},
   "outputs": [],
   "source": [
    "from PIL import Image\n",
    "import numpy as np\n",
    "from pylfsr import LFSR"
   ]
  },
  {
   "cell_type": "markdown",
   "metadata": {},
   "source": [
    "## Helper Functions"
   ]
  },
  {
   "cell_type": "markdown",
   "metadata": {},
   "source": [
    "- Any type to Binary Converter\n"
   ]
  },
  {
   "cell_type": "code",
   "execution_count": 12,
   "metadata": {},
   "outputs": [],
   "source": [
    "def convertToBinary(data):\n",
    "    if isinstance(data, str):\n",
    "        return ''.join([ format(ord(i), \"08b\") for i in data ])\n",
    "    elif isinstance(data, bytes) or isinstance(data, np.ndarray):\n",
    "        return [ format(i, \"08b\") for i in data ]\n",
    "    elif isinstance(data, int) or isinstance(data, np.uint8):\n",
    "        return format(data, \"08b\")\n",
    "    else:\n",
    "        raise TypeError(\"Type not supported.\")"
   ]
  },
  {
   "cell_type": "markdown",
   "metadata": {},
   "source": [
    "- Binary to Decimal Converter"
   ]
  },
  {
   "cell_type": "code",
   "execution_count": 13,
   "metadata": {},
   "outputs": [],
   "source": [
    "def binaryToDecimal(binary):\n",
    "    decimal = 0\n",
    "    for bit in binary:\n",
    "        decimal = decimal*2 + int(bit)\n",
    "    return decimal"
   ]
  },
  {
   "cell_type": "markdown",
   "metadata": {},
   "source": [
    "- Convert image to matrix"
   ]
  },
  {
   "cell_type": "code",
   "execution_count": 14,
   "metadata": {},
   "outputs": [],
   "source": [
    "def getImageMatrix(imageName):\n",
    "\n",
    "    imageHandler = Image.open(imageName)\n",
    "    pixels = imageHandler.load()\n",
    "    color = 1\n",
    "    if type(pixels[0,0]) == int:\n",
    "        color = 0\n",
    "    image_size = imageHandler.size\n",
    "    \n",
    "    rows = int(image_size[0])\n",
    "    cols = int(image_size[1])\n",
    "    image_matrix = []\n",
    "    for row in range(rows):\n",
    "        current_row = []\n",
    "        for col in range(cols):\n",
    "            current_row.append(pixels[row,col])\n",
    "        image_matrix.append(current_row)\n",
    "    \n",
    "    return image_matrix, image_size, color\n"
   ]
  },
  {
   "cell_type": "markdown",
   "metadata": {},
   "source": [
    "## 2D Chaotic Map"
   ]
  },
  {
   "cell_type": "markdown",
   "metadata": {},
   "source": [
    "- Hennon Map (Binary)"
   ]
  },
  {
   "cell_type": "code",
   "execution_count": 15,
   "metadata": {},
   "outputs": [],
   "source": [
    "def HennonMapBinary(dimension, key):\n",
    "\n",
    "    rows = dimension[0]\n",
    "    cols = dimension[1]\n",
    "    x = key[0]\n",
    "    y = key[1]\n",
    "    a = 1.4\n",
    "    b = 0.3\n",
    "\n",
    "    # Total Number of bitSequence produced\n",
    "    sequenceSize = rows * cols\n",
    "    bitSequenceSize = cols\n",
    "    # Each bitSequence contains k bits\n",
    "    bitSequence = []       \n",
    "    # Each matrix contains m*n byteArray\n",
    "    matrix = []\n",
    "\n",
    "    for i in range(sequenceSize):\n",
    "        x_next = y + 1 - (a * (x**2)) \n",
    "        y_next = b * x\n",
    "        x = x_next\n",
    "        y = y_next\n",
    "        if x <= 0.4:\n",
    "            bit = 0\n",
    "        else:\n",
    "            bit = 1\n",
    "\n",
    "        bitSequence.append(bit) \n",
    "\n",
    "        # If Bit Sequence has k bits, convert it to decimal and add it to Byte Sequence.\n",
    "        if i % bitSequenceSize == bitSequenceSize - 1:\n",
    "            matrix.append(bitSequence)\n",
    "            bitSequence = []\n",
    "\n",
    "    return matrix"
   ]
  },
  {
   "cell_type": "markdown",
   "metadata": {},
   "source": [
    "## Encoding\n"
   ]
  },
  {
   "cell_type": "code",
   "execution_count": 16,
   "metadata": {},
   "outputs": [],
   "source": [
    "def encode(imageName, filename, key, poly):\n",
    "\n",
    "    # read the image.\n",
    "    imagehandler = Image.open(imageName) \n",
    "    image = imagehandler.load()\n",
    "    image_size = imagehandler.size\n",
    "\n",
    "    # Get secret data.\n",
    "    filehandler = open(filename,\"r\")\n",
    "    secret_data = \"\".join(filehandler.readlines())\n",
    "    secret_data += \"=!\"\n",
    "    filehandler.close()\n",
    "\n",
    "    # convert data to binary.\n",
    "    binary_secret_data = convertToBinary(secret_data)\n",
    "    data_len = len(binary_secret_data)\n",
    "\n",
    "    # Create and load intermediate images.\n",
    "    intermediate_imagehandler1 = Image.new(mode=\"RGB\", size=image_size)\n",
    "    intermediate_image1 = intermediate_imagehandler1.load()\n",
    "    intermediate_imagehandler2 = Image.new(mode=\"RGB\", size=image_size)\n",
    "    intermediate_image2 = intermediate_imagehandler2.load()\n",
    "\n",
    "    # Build chaotic map and derive some available pixels.\n",
    "    map = HennonMapBinary(image_size, key)\n",
    "\n",
    "    # Select pixels by superimposing Chaotic Map on the image.\n",
    "    availablePixels = []\n",
    "    for i in range(image_size[0]):\n",
    "        for j in range(0,image_size[1]):\n",
    "            if map[i][j] == 1:\n",
    "                availablePixels.append([i,j,0])\n",
    "                intermediate_image1[i,j] = image[i,j]\n",
    "\n",
    "    # Save intermediate 1 with selected pixels by Chaotic Map.\n",
    "    intermediate_imagehandler1.save(\"outputs/image_steg/intermediate1.png\",\"PNG\")\n",
    "\n",
    "    # check if encoding is possible\n",
    "    if data_len > len(availablePixels)*6:\n",
    "        raise ValueError(\"[!] Insufficient space. Please change key or data.\")\n",
    "\n",
    "    # Build LFSR\n",
    "    lfsr = LFSR(initstate = [1, 1, 1, 1, 1, 1, 1, 1], fpoly=poly, counter_start_zero=True)\n",
    "\n",
    "    index = 0\n",
    "\n",
    "    for i in range(0, data_len, 2):\n",
    "\n",
    "        # Choose pixel using LFSR from Available pixels\n",
    "        index = (index + binaryToDecimal(lfsr.state)) % len(availablePixels)\n",
    "        lfsr.next()\n",
    "\n",
    "        # If pixel is already used 3 times, keep choosing next pixel until unused pixel is found.\n",
    "        count = 0\n",
    "        while availablePixels[index][2] >= 2:\n",
    "            index = (index + binaryToDecimal(lfsr.state)) % len(availablePixels)\n",
    "            lfsr.next()\n",
    "            count += 1\n",
    "            if count > 100:\n",
    "                print(\"exceeded\")\n",
    "                return\n",
    "\n",
    "        '''\n",
    "        EACH PIXEL CAN BE USED AT MAX 3 TIMES. WE KEEP COUNT OF NUMBER OF USES AS USAGESTATE.\n",
    "\n",
    "        IF USAGESTATE IS 0: XOR 2 DATA BITS WITH 2 LSB OF RED VALUE\n",
    "        IF USAGESTATE IS 1: XOR 2 DATA BITS WITH 2 LSB OF BLUE VALUE\n",
    "        IF USAGESTATE IS 2: XOR 2 DATA BITS WITH 2 LSB OF GREEN VALUE\n",
    "        '''\n",
    "\n",
    "        # Extract row, column and usagestate values.\n",
    "        row, col, usageState = availablePixels[index][0], availablePixels[index][1], availablePixels[index][2]\n",
    "        \n",
    "        # Select pixel in intermediate 2.\n",
    "        intermediate_image2[row,col] = image[row,col]\n",
    "\n",
    "        # Update with Red Value\n",
    "        if usageState == 0:\n",
    "            red = list(convertToBinary(image[row,col][0]))\n",
    "            red[-2] = str(int(red[-2]) ^ int(binary_secret_data[i]))\n",
    "            red[-1] = str(int(red[-1]) ^ int(binary_secret_data[i+1]))\n",
    "            red = \"\".join(red)\n",
    "            red = binaryToDecimal(red)\n",
    "            image[row,col] = (red, image[row,col][1], image[row,col][2])\n",
    "\n",
    "        # Update with Blue Value\n",
    "        elif usageState == 1:\n",
    "            blue = list(convertToBinary(image[row,col][1]))\n",
    "            blue[-2] = str(int(blue[-2]) ^ int(binary_secret_data[i]))\n",
    "            blue[-1] = str(int(blue[-1]) ^ int(binary_secret_data[i+1]))\n",
    "            blue = \"\".join(blue)\n",
    "            blue = binaryToDecimal(blue)\n",
    "            image[row,col] = (image[row,col][0], blue, image[row,col][2])\n",
    "        \n",
    "        # Update with Green Value\n",
    "        elif usageState == 2:\n",
    "            green = list(convertToBinary(image[row,col][2]))\n",
    "            green[-2] = str(int(green[-2]) ^ int(binary_secret_data[i]))\n",
    "            green[-1] = str(int(green[-1]) ^ int(binary_secret_data[i+1]))\n",
    "            green = \"\".join(green)\n",
    "            green = binaryToDecimal(green)\n",
    "            image[row,col] = (image[row,col][0], image[row,col][1], green)\n",
    "        \n",
    "        availablePixels[index][2] += 1\n",
    "\n",
    "    # Save imtermediate 2 with total Used Bits after encoding with LFSR select\n",
    "    intermediate_imagehandler2.save(\"outputs/image_steg/intermediate2.png\",\"PNG\")\n",
    "\n",
    "    # Save the final image.\n",
    "    imagehandler.save(\"outputs/image_steg/encoded_image.png\", \"PNG\")"
   ]
  },
  {
   "cell_type": "code",
   "execution_count": 17,
   "metadata": {},
   "outputs": [],
   "source": [
    "import json\n",
    "\n",
    "def main():\n",
    "    info = open(\"config.json\",\"r\")\n",
    "    json_data = json.load(info)\n",
    "    original_image = json_data[\"source\"][\"image_filename\"]\n",
    "    hennon_key = json_data[\"key\"][\"hennon_key\"]\n",
    "    lfsr_poly = json_data[\"key\"][\"lfsr_polynomial\"]\n",
    "    \n",
    "    encode(original_image, \"assets/input1000.txt\", hennon_key, lfsr_poly)"
   ]
  },
  {
   "cell_type": "code",
   "execution_count": 18,
   "metadata": {},
   "outputs": [],
   "source": [
    "main()"
   ]
  }
 ],
 "metadata": {
  "kernelspec": {
   "display_name": "Python 3",
   "language": "python",
   "name": "python3"
  },
  "language_info": {
   "codemirror_mode": {
    "name": "ipython",
    "version": 3
   },
   "file_extension": ".py",
   "mimetype": "text/x-python",
   "name": "python",
   "nbconvert_exporter": "python",
   "pygments_lexer": "ipython3",
   "version": "3.10.8"
  },
  "orig_nbformat": 4
 },
 "nbformat": 4,
 "nbformat_minor": 2
}
