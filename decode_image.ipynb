{
 "cells": [
  {
   "cell_type": "markdown",
   "metadata": {},
   "source": [
    "Imports"
   ]
  },
  {
   "cell_type": "code",
   "execution_count": 25,
   "metadata": {},
   "outputs": [],
   "source": [
    "from PIL import Image\n",
    "import numpy as np\n",
    "import math\n",
    "from pylfsr import LFSR"
   ]
  },
  {
   "cell_type": "markdown",
   "metadata": {},
   "source": [
    "## Helper Functions"
   ]
  },
  {
   "cell_type": "markdown",
   "metadata": {},
   "source": [
    "- Any type to Binary Converter\n"
   ]
  },
  {
   "cell_type": "code",
   "execution_count": 26,
   "metadata": {},
   "outputs": [],
   "source": [
    "def convertToBinary(data):\n",
    "    if isinstance(data, str):\n",
    "        return ''.join([ format(ord(i), \"08b\") for i in data ])\n",
    "    elif isinstance(data, bytes) or isinstance(data, np.ndarray):\n",
    "        return [ format(i, \"08b\") for i in data ]\n",
    "    elif isinstance(data, int) or isinstance(data, np.uint8):\n",
    "        return format(data, \"08b\")\n",
    "    else:\n",
    "        raise TypeError(\"Type not supported.\")"
   ]
  },
  {
   "cell_type": "markdown",
   "metadata": {},
   "source": [
    "- Binary to Decimal Converter"
   ]
  },
  {
   "cell_type": "code",
   "execution_count": 27,
   "metadata": {},
   "outputs": [],
   "source": [
    "def binaryToDecimal(binary):\n",
    "    decimal = 0\n",
    "    for bit in binary:\n",
    "        decimal = decimal*2 + int(bit)\n",
    "    return decimal"
   ]
  },
  {
   "cell_type": "markdown",
   "metadata": {},
   "source": [
    "- Convert image to matrix"
   ]
  },
  {
   "cell_type": "code",
   "execution_count": 28,
   "metadata": {},
   "outputs": [],
   "source": [
    "def getImageMatrix(imageName):\n",
    "\n",
    "    imageHandler = Image.open(imageName)\n",
    "    pixels = imageHandler.load()\n",
    "    color = 1\n",
    "    if type(pixels[0,0]) == int:\n",
    "        color = 0\n",
    "    image_size = imageHandler.size\n",
    "    \n",
    "    rows = int(image_size[0])\n",
    "    cols = int(image_size[1])\n",
    "    image_matrix = []\n",
    "    for row in range(rows):\n",
    "        current_row = []\n",
    "        for col in range(cols):\n",
    "            current_row.append(pixels[row,col])\n",
    "        image_matrix.append(current_row)\n",
    "    \n",
    "    return image_matrix, image_size, color\n"
   ]
  },
  {
   "cell_type": "markdown",
   "metadata": {},
   "source": [
    "## 2D Chaotic Map"
   ]
  },
  {
   "cell_type": "markdown",
   "metadata": {},
   "source": [
    "- Hennon Map (Binary)"
   ]
  },
  {
   "cell_type": "code",
   "execution_count": 29,
   "metadata": {},
   "outputs": [],
   "source": [
    "def HennonMapBinary(dimension, key):\n",
    "\n",
    "    rows = dimension[0]\n",
    "    cols = dimension[1]\n",
    "    x = key[0]\n",
    "    y = key[1]\n",
    "    a = 1.4\n",
    "    b = 0.3\n",
    "\n",
    "    # Total Number of bitSequence produced\n",
    "    sequenceSize = rows * cols\n",
    "    bitSequenceSize = cols\n",
    "    # Each bitSequence contains k bits\n",
    "    bitSequence = []       \n",
    "    # Each matrix contains m*n byteArray\n",
    "    matrix = []\n",
    "\n",
    "    for i in range(sequenceSize):\n",
    "        x_next = y + 1 - (a * (x**2)) \n",
    "        y_next = b * x\n",
    "        x = x_next\n",
    "        y = y_next\n",
    "        if x <= 0.4:\n",
    "            bit = 0\n",
    "        else:\n",
    "            bit = 1\n",
    "\n",
    "        bitSequence.append(bit) \n",
    "\n",
    "        # If Bit Sequence has k bits, convert it to decimal and add it to Byte Sequence.\n",
    "        if i % bitSequenceSize == bitSequenceSize - 1:\n",
    "            matrix.append(bitSequence)\n",
    "            bitSequence = []\n",
    "\n",
    "    return matrix"
   ]
  },
  {
   "cell_type": "code",
   "execution_count": 30,
   "metadata": {},
   "outputs": [
    {
     "name": "stdout",
     "output_type": "stream",
     "text": [
      "[[1, 0, 0, 1], [0, 1, 0, 1], [0, 1, 1, 1]]\n"
     ]
    }
   ],
   "source": [
    "h = HennonMapBinary([3,4], [0.1,0.2])\n",
    "print(h)"
   ]
  },
  {
   "cell_type": "markdown",
   "metadata": {},
   "source": [
    "## Decoding\n"
   ]
  },
  {
   "cell_type": "code",
   "execution_count": 31,
   "metadata": {},
   "outputs": [],
   "source": [
    "def decode(imagename, key, poly, data_len):\n",
    "\n",
    "    # Read the Encoded Image\n",
    "    imagehandler = Image.open(\"images\\encoded_image.png\") \n",
    "    image = imagehandler.load()\n",
    "    image_size = imagehandler.size\n",
    "\n",
    "    # Read the Original Image\n",
    "    imagehandler_or = Image.open(imagename) \n",
    "    image_or = imagehandler_or.load()\n",
    "\n",
    "    # Build chaotic map and derive some available pixels\n",
    "    map = HennonMapBinary(image_size, key)\n",
    "\n",
    "    availablePixels = []\n",
    "\n",
    "    for i in range(image_size[0]):\n",
    "        for j in range(0,image_size[1]):\n",
    "            availablePixels.append([i,j,0])\n",
    "\n",
    "    # Build LFSR\n",
    "    lfsr = LFSR(initstate = [1, 1, 1], fpoly=poly, counter_start_zero=True)\n",
    "\n",
    "    data = []\n",
    "    current = \"\"\n",
    "    index = 0\n",
    "\n",
    "    for i in range(0, data_len, 2):\n",
    "\n",
    "        # Choose an unused pixel using LFSR from Chaotic Map\n",
    "\n",
    "        index = (index + binaryToDecimal(lfsr.state)) % len(availablePixels)\n",
    "        lfsr.next()\n",
    "\n",
    "        while availablePixels[index][2] >= 2:\n",
    "            index = (index + binaryToDecimal(lfsr.state)) % len(availablePixels)\n",
    "            lfsr.next()\n",
    "\n",
    "        '''\n",
    "        EACH PIXEL CAN BE USED AT MAX 3 TIMES. WE KEEP COUNT OF NUMBER OF USES AS USAGESTATE.\n",
    "\n",
    "        IF USAGESTATE IS 0: XOR 2 DATA BITS WITH 2 LSB OF RED VALUE\n",
    "        IF USAGESTATE IS 1: XOR 2 DATA BITS WITH 2 LSB OF BLUE VALUE\n",
    "        IF USAGESTATE IS 2: XOR 2 DATA BITS WITH 2 LSB OF GREEN VALUE\n",
    "        '''\n",
    "\n",
    "        row, col, usageState = availablePixels[index][0], availablePixels[index][1], availablePixels[index][2]\n",
    "        \n",
    "        # Extract from Red Value\n",
    "        if usageState == 0:\n",
    "            value = image[row,col][0]\n",
    "            value = list(convertToBinary(value))\n",
    "            value_or = image_or[row,col][0]\n",
    "            value_or = list(convertToBinary(value_or))\n",
    "            temp1 = str(int(value[-2]) ^ int(value_or[-2]))\n",
    "            temp2 = str(int(value[-1]) ^ int(value_or[-1]))\n",
    "\n",
    "        # Extract from Red Value\n",
    "        elif usageState == 1:\n",
    "            value = image[row,col][1]\n",
    "            value = list(convertToBinary(value))\n",
    "            value_or = image_or[row,col][0]\n",
    "            value_or = list(convertToBinary(value_or))\n",
    "            temp1 = str(int(value[-2]) ^ int(value_or[-2]))\n",
    "            temp2 = str(int(value[-1]) ^ int(value_or[-1]))\n",
    "        \n",
    "        # Extract from Red Value\n",
    "        else:\n",
    "            value = image[row,col][2]\n",
    "            value = list(convertToBinary(value))\n",
    "            value_or = image_or[row,col][0]\n",
    "            value_or = list(convertToBinary(value_or))\n",
    "            temp1 = str(int(value[-2]) ^ int(value_or[-2]))\n",
    "            temp2 = str(int(value[-1]) ^ int(value_or[-1]))\n",
    "        \n",
    "        current = current + temp1 + temp2\n",
    "        if len(current) == 8:\n",
    "            data.append(current)\n",
    "            current = \"\"\n",
    "        availablePixels[index][2] += 1\n",
    "\n",
    "    data_found = \"\".join(chr(int(c, 2)) for c in data)\n",
    "\n",
    "    # Store Output in File\n",
    "    filehandler = open(\"text\\output.txt\",\"w\")\n",
    "    filehandler.writelines(data_found)\n",
    "    filehandler.close()\n",
    "\n",
    "    return data_found"
   ]
  },
  {
   "cell_type": "code",
   "execution_count": 32,
   "metadata": {},
   "outputs": [
    {
     "data": {
      "text/plain": [
       "'Adding a new message.\\n To see how much.\\n Can be extracted.'"
      ]
     },
     "execution_count": 32,
     "metadata": {},
     "output_type": "execute_result"
    }
   ],
   "source": [
    "decode(\"images\\original_image.jpeg\", [0.1, 0.1], [3,2], 464)"
   ]
  }
 ],
 "metadata": {
  "kernelspec": {
   "display_name": "Python 3",
   "language": "python",
   "name": "python3"
  },
  "language_info": {
   "codemirror_mode": {
    "name": "ipython",
    "version": 3
   },
   "file_extension": ".py",
   "mimetype": "text/x-python",
   "name": "python",
   "nbconvert_exporter": "python",
   "pygments_lexer": "ipython3",
   "version": "3.10.8"
  },
  "orig_nbformat": 4
 },
 "nbformat": 4,
 "nbformat_minor": 2
}
