{
 "cells": [
  {
   "cell_type": "markdown",
   "metadata": {},
   "source": [
    "Imports"
   ]
  },
  {
   "cell_type": "code",
   "execution_count": 15,
   "metadata": {},
   "outputs": [],
   "source": [
    "from PIL import Image\n",
    "import numpy as np\n",
    "import math\n",
    "from pylfsr import LFSR"
   ]
  },
  {
   "cell_type": "markdown",
   "metadata": {},
   "source": [
    "## Helper Functions"
   ]
  },
  {
   "cell_type": "markdown",
   "metadata": {},
   "source": [
    "- Any type to Binary Converter\n"
   ]
  },
  {
   "cell_type": "code",
   "execution_count": 16,
   "metadata": {},
   "outputs": [],
   "source": [
    "def convertToBinary(data):\n",
    "    if isinstance(data, str):\n",
    "        return ''.join([ format(ord(i), \"08b\") for i in data ])\n",
    "    elif isinstance(data, bytes) or isinstance(data, np.ndarray):\n",
    "        return [ format(i, \"08b\") for i in data ]\n",
    "    elif isinstance(data, int) or isinstance(data, np.uint8):\n",
    "        return format(data, \"08b\")\n",
    "    else:\n",
    "        raise TypeError(\"Type not supported.\")"
   ]
  },
  {
   "cell_type": "markdown",
   "metadata": {},
   "source": [
    "- Binary to Decimal Converter"
   ]
  },
  {
   "cell_type": "code",
   "execution_count": 17,
   "metadata": {},
   "outputs": [],
   "source": [
    "def binaryToDecimal(binary):\n",
    "    decimal = 0\n",
    "    for bit in binary:\n",
    "        decimal = decimal*2 + int(bit)\n",
    "    return decimal"
   ]
  },
  {
   "cell_type": "markdown",
   "metadata": {},
   "source": [
    "- Convert image to matrix"
   ]
  },
  {
   "cell_type": "code",
   "execution_count": 18,
   "metadata": {},
   "outputs": [],
   "source": [
    "def getImageMatrix(imageName):\n",
    "\n",
    "    imageHandler = Image.open(imageName)\n",
    "    pixels = imageHandler.load()\n",
    "    color = 1\n",
    "    if type(pixels[0,0]) == int:\n",
    "        color = 0\n",
    "    image_size = imageHandler.size\n",
    "    \n",
    "    rows = int(image_size[0])\n",
    "    cols = int(image_size[1])\n",
    "    image_matrix = []\n",
    "    for row in range(rows):\n",
    "        current_row = []\n",
    "        for col in range(cols):\n",
    "            current_row.append(pixels[row,col])\n",
    "        image_matrix.append(current_row)\n",
    "    \n",
    "    return image_matrix, image_size, color\n"
   ]
  },
  {
   "cell_type": "code",
   "execution_count": 19,
   "metadata": {},
   "outputs": [
    {
     "name": "stdout",
     "output_type": "stream",
     "text": [
      "(1000, 667)\n"
     ]
    }
   ],
   "source": [
    "img, size, color = getImageMatrix(\"images/img1.jpeg\")\n",
    "print(size)"
   ]
  },
  {
   "cell_type": "markdown",
   "metadata": {},
   "source": [
    "## 1D Chaotic Map"
   ]
  },
  {
   "cell_type": "markdown",
   "metadata": {},
   "source": [
    "- Logistic Map"
   ]
  },
  {
   "cell_type": "code",
   "execution_count": 20,
   "metadata": {},
   "outputs": [],
   "source": [
    "def LogisticMap(dimension, key, k):\n",
    "    \n",
    "    x = key\n",
    "    a = 3.6\n",
    "\n",
    "    bitSequence = []\n",
    "    matrix = []\n",
    "\n",
    "    for i in range(dimension * k):\n",
    "        x_next = a * x * (1 - x) \n",
    "        x = x_next\n",
    "        if x <= 0.4:\n",
    "            bit = 0\n",
    "        else:\n",
    "            bit = 1\n",
    "\n",
    "        bitSequence.append(bit) \n",
    "\n",
    "        # If Bit Sequence has k bits, convert it to decimal and add it to Byte Sequence.\n",
    "        if i % k == k - 1:\n",
    "            decimal = binaryToDecimal(bitSequence)\n",
    "            matrix.append(decimal)\n",
    "            bitSequence = []\n",
    "\n",
    "    return matrix"
   ]
  },
  {
   "cell_type": "markdown",
   "metadata": {},
   "source": [
    "## 2D Chaotic Map"
   ]
  },
  {
   "cell_type": "markdown",
   "metadata": {},
   "source": [
    "- Hennon Map Implementation"
   ]
  },
  {
   "cell_type": "code",
   "execution_count": 21,
   "metadata": {},
   "outputs": [],
   "source": [
    "def HennonMap(dimension, key, k):\n",
    "\n",
    "    x = key[0]\n",
    "    y = key[1]\n",
    "    a = 1.4\n",
    "    b = 0.3\n",
    "\n",
    "    # Total Number of bitSequence produced\n",
    "    sequenceSize = dimension * dimension * k \n",
    "    bitSequenceSize = k\n",
    "    byteArraySize = dimension * k\n",
    "    # Each bitSequence contains k bits\n",
    "    bitSequence = []    \n",
    "    # Each byteArray contains m bitSequence\n",
    "    byteArray = []      \n",
    "    # Each matrix contains m*n byteArray\n",
    "    matrix = []\n",
    "\n",
    "    for i in range(sequenceSize):\n",
    "        x_next = y + 1 - (a * (x**2)) \n",
    "        y_next = b * x\n",
    "        x = x_next\n",
    "        y = y_next\n",
    "        if x <= 0.4:\n",
    "            bit = 0\n",
    "        else:\n",
    "            bit = 1\n",
    "\n",
    "        bitSequence.append(bit) \n",
    "\n",
    "        # If Bit Sequence has k bits, convert it to decimal and add it to Byte Sequence.\n",
    "        if i % bitSequenceSize == bitSequenceSize - 1:\n",
    "            decimal = binaryToDecimal(bitSequence)\n",
    "            byteArray.append(decimal)\n",
    "            bitSequence = []\n",
    "        \n",
    "        # If Byte Sequence has k bytes, add it to Matrix.\n",
    "        if i % byteArraySize == byteArraySize - 1:\n",
    "            matrix.append(byteArray)\n",
    "            byteArray = []\n",
    "\n",
    "    return matrix"
   ]
  },
  {
   "cell_type": "code",
   "execution_count": 22,
   "metadata": {},
   "outputs": [
    {
     "name": "stdout",
     "output_type": "stream",
     "text": [
      "[[5, 2, 1, 6], [4, 2, 4, 7], [2, 1, 2, 3], [7, 7, 5, 2]]\n"
     ]
    }
   ],
   "source": [
    "h = HennonMap(4, [0.1,0.1], 3)\n",
    "print(h)"
   ]
  },
  {
   "cell_type": "markdown",
   "metadata": {},
   "source": [
    "- Hennon Map (Binary)"
   ]
  },
  {
   "cell_type": "code",
   "execution_count": 23,
   "metadata": {},
   "outputs": [],
   "source": [
    "def HennonMapBinary(dimension, key):\n",
    "\n",
    "    rows = dimension[0]\n",
    "    cols = dimension[1]\n",
    "    x = key[0]\n",
    "    y = key[1]\n",
    "    a = 1.4\n",
    "    b = 0.3\n",
    "\n",
    "    # Total Number of bitSequence produced\n",
    "    sequenceSize = rows * cols\n",
    "    bitSequenceSize = cols\n",
    "    # Each bitSequence contains k bits\n",
    "    bitSequence = []       \n",
    "    # Each matrix contains m*n byteArray\n",
    "    matrix = []\n",
    "\n",
    "    for i in range(sequenceSize):\n",
    "        x_next = y + 1 - (a * (x**2)) \n",
    "        y_next = b * x\n",
    "        x = x_next\n",
    "        y = y_next\n",
    "        if x <= 0.4:\n",
    "            bit = 0\n",
    "        else:\n",
    "            bit = 1\n",
    "\n",
    "        bitSequence.append(bit) \n",
    "\n",
    "        # If Bit Sequence has k bits, convert it to decimal and add it to Byte Sequence.\n",
    "        if i % bitSequenceSize == bitSequenceSize - 1:\n",
    "            matrix.append(bitSequence)\n",
    "            bitSequence = []\n",
    "\n",
    "    return matrix"
   ]
  },
  {
   "cell_type": "code",
   "execution_count": 24,
   "metadata": {},
   "outputs": [
    {
     "name": "stdout",
     "output_type": "stream",
     "text": [
      "[[1, 0, 0, 1], [0, 1, 0, 1], [0, 1, 1, 1]]\n"
     ]
    }
   ],
   "source": [
    "h = HennonMapBinary([3,4], [0.1,0.2])\n",
    "print(h)"
   ]
  },
  {
   "cell_type": "markdown",
   "metadata": {},
   "source": [
    "- Hennon Map (Indexes Only)"
   ]
  },
  {
   "cell_type": "code",
   "execution_count": 25,
   "metadata": {},
   "outputs": [],
   "source": [
    "def HennonMapNew(required, key, k):\n",
    "\n",
    "    x = key[0]\n",
    "    y = key[1]\n",
    "    a = 1.4\n",
    "    b = 0.3\n",
    "\n",
    "    chosen_pixels = {}\n",
    "    chosen_pixels_count = 0\n",
    "\n",
    "    bitSequenceSize = k\n",
    "    # Each bitSequence contains 8 bits\n",
    "    bitSequence = []\n",
    "    indices = []\n",
    "\n",
    "    while True:\n",
    "        x_next = y + 1 - (a * (x**2)) \n",
    "        y_next = b * x\n",
    "        x = x_next\n",
    "        y = y_next\n",
    "        if x <= 0.4:\n",
    "            bit = \"0\"\n",
    "        else:\n",
    "            bit = \"1\"\n",
    "\n",
    "        bitSequence.append(bit) \n",
    "\n",
    "        # If Bit Sequence has k bits, convert it to decimal and add it to Indices.\n",
    "        if len(bitSequence) == bitSequenceSize:\n",
    "            indices.append(\"\".join(bitSequence))\n",
    "            bitSequence = []\n",
    "        \n",
    "        # If Indices Sequence has 2 values, add it to chosen pixels.\n",
    "        if len(indices) == 2:\n",
    "            if (indices[0],indices[1]) not in chosen_pixels:\n",
    "                chosen_pixels[(indices[0],indices[1])] = 1\n",
    "                chosen_pixels_count += 1\n",
    "                if chosen_pixels_count == required:\n",
    "                    return chosen_pixels\n",
    "            indices = []\n",
    "            \n",
    "    return -1"
   ]
  },
  {
   "cell_type": "code",
   "execution_count": 26,
   "metadata": {},
   "outputs": [
    {
     "name": "stdout",
     "output_type": "stream",
     "text": [
      "{('101', '010'): 1, ('001', '110'): 1, ('100', '010'): 1, ('100', '111'): 1, ('010', '001'): 1}\n"
     ]
    }
   ],
   "source": [
    "print(HennonMapNew(5,[0.1,0.1],3))"
   ]
  },
  {
   "cell_type": "markdown",
   "metadata": {},
   "source": [
    "## Encoding\n"
   ]
  },
  {
   "cell_type": "code",
   "execution_count": 27,
   "metadata": {},
   "outputs": [],
   "source": [
    "def encode(imageName, secret_data, key, poly):\n",
    "\n",
    "    # read the image\n",
    "    imagehandler = Image.open(imageName) \n",
    "    image_size = imagehandler.size\n",
    "\n",
    "    # convert data to binary\n",
    "    binary_secret_data = convertToBinary(secret_data)\n",
    "    data_len = len(binary_secret_data)\n",
    "\n",
    "    # Build chaotic map and derive some available pixels\n",
    "    map = HennonMapBinary(image_size, key)\n",
    "\n",
    "    availablePixels = []\n",
    "\n",
    "    for i in range(image_size[0]):\n",
    "        for j in range(0,image_size[1]):\n",
    "            availablePixels.append([i,j,0])\n",
    "\n",
    "    # check if encoding is possible\n",
    "    if data_len > len(availablePixels)*6:\n",
    "        raise ValueError(\"[!] Insufficient space. Please change key or data.\")\n",
    "\n",
    "    # Build LFSR\n",
    "    lfsr = LFSR(initstate = [0, 0, 0, 0, 0, 0], fpoly=poly, counter_start_zero=True)\n",
    "\n",
    "    for i in range(0, data_len, 2):\n",
    "\n",
    "        index = lfsr.state\n",
    "        lfsr.next()\n",
    "\n",
    "        while availablePixels[index][2] >= 2:\n",
    "            index = lfsr.state\n",
    "            lfsr.next()\n",
    "\n",
    "        row, col, usageState = availablePixels[index][0], availablePixels[index][1], availablePixels[index][2]\n",
    "        pixel = imagehandler[row][col]\n",
    "        r, g, b = convertToBinary(pixel)\n",
    "\n",
    "        print(pixel)\n",
    "\n",
    "        \n",
    "\n",
    "        currentBits = [int(binary_secret_data[i]), int(binary_secret_data[i+1])]\n",
    "\n",
    "\n",
    "\n",
    "\n",
    "    # for row in imagehandler:\n",
    "    #     for pixel in row:\n",
    "\n",
    "    #         # convert RGB values to binary format\n",
    "    #         r, g, b = convertToBinary(pixel)\n",
    "\n",
    "    #         # modify the least significant bit only if there is still data to store\n",
    "    #         if data_index < data_len:\n",
    "    #             # least significant red pixel bit\n",
    "    #             pixel[0] = int(r[:-1] + binary_secret_data[data_index], 2)\n",
    "    #             data_index += 1\n",
    "    #         if data_index < data_len:\n",
    "    #             # least significant green pixel bit\n",
    "    #             pixel[1] = int(g[:-1] + binary_secret_data[data_index], 2)\n",
    "    #             data_index += 1\n",
    "    #         if data_index < data_len:\n",
    "    #             # least significant blue pixel bit\n",
    "    #             pixel[2] = int(b[:-1] + binary_secret_data[data_index], 2)\n",
    "    #             data_index += 1\n",
    "    #         # if data is encoded, just break out of the loop\n",
    "    #         if data_index >= data_len:\n",
    "    #             break\n",
    "    # return image"
   ]
  },
  {
   "cell_type": "code",
   "execution_count": 29,
   "metadata": {},
   "outputs": [
    {
     "ename": "ValueError",
     "evalue": "Invalid feedback polynomial: Order of feedback polynomial can not be less than 2 or greater than length of state vector. \n Polynomial also can not have negative or zeros powers",
     "output_type": "error",
     "traceback": [
      "\u001b[1;31m---------------------------------------------------------------------------\u001b[0m",
      "\u001b[1;31mValueError\u001b[0m                                Traceback (most recent call last)",
      "\u001b[1;32mc:\\D\\Machine Learning\\Steganography\\Project\\encode.ipynb Cell 26\u001b[0m line \u001b[0;36m<module>\u001b[1;34m\u001b[0m\n\u001b[1;32m----> <a href='vscode-notebook-cell:/c%3A/D/Machine%20Learning/Steganography/Project/encode.ipynb#X40sZmlsZQ%3D%3D?line=0'>1</a>\u001b[0m encode(\u001b[39m\"\u001b[39;49m\u001b[39mimages/img1.jpeg\u001b[39;49m\u001b[39m\"\u001b[39;49m, \u001b[39m\"\u001b[39;49m\u001b[39mdata here\u001b[39;49m\u001b[39m\"\u001b[39;49m, [\u001b[39m0.1\u001b[39;49m, \u001b[39m0.1\u001b[39;49m], [\u001b[39m1\u001b[39;49m,\u001b[39m0\u001b[39;49m,\u001b[39m1\u001b[39;49m])\n",
      "\u001b[1;32mc:\\D\\Machine Learning\\Steganography\\Project\\encode.ipynb Cell 26\u001b[0m line \u001b[0;36mencode\u001b[1;34m(imageName, secret_data, key, poly)\u001b[0m\n\u001b[0;32m     <a href='vscode-notebook-cell:/c%3A/D/Machine%20Learning/Steganography/Project/encode.ipynb#X40sZmlsZQ%3D%3D?line=21'>22</a>\u001b[0m     \u001b[39mraise\u001b[39;00m \u001b[39mValueError\u001b[39;00m(\u001b[39m\"\u001b[39m\u001b[39m[!] Insufficient space. Please change key or data.\u001b[39m\u001b[39m\"\u001b[39m)\n\u001b[0;32m     <a href='vscode-notebook-cell:/c%3A/D/Machine%20Learning/Steganography/Project/encode.ipynb#X40sZmlsZQ%3D%3D?line=23'>24</a>\u001b[0m \u001b[39m# Build LFSR\u001b[39;00m\n\u001b[1;32m---> <a href='vscode-notebook-cell:/c%3A/D/Machine%20Learning/Steganography/Project/encode.ipynb#X40sZmlsZQ%3D%3D?line=24'>25</a>\u001b[0m lfsr \u001b[39m=\u001b[39m LFSR(initstate \u001b[39m=\u001b[39;49m [\u001b[39m0\u001b[39;49m, \u001b[39m0\u001b[39;49m, \u001b[39m0\u001b[39;49m, \u001b[39m0\u001b[39;49m, \u001b[39m0\u001b[39;49m, \u001b[39m0\u001b[39;49m], fpoly\u001b[39m=\u001b[39;49mpoly, counter_start_zero\u001b[39m=\u001b[39;49m\u001b[39mTrue\u001b[39;49;00m)\n\u001b[0;32m     <a href='vscode-notebook-cell:/c%3A/D/Machine%20Learning/Steganography/Project/encode.ipynb#X40sZmlsZQ%3D%3D?line=26'>27</a>\u001b[0m \u001b[39mfor\u001b[39;00m i \u001b[39min\u001b[39;00m \u001b[39mrange\u001b[39m(\u001b[39m0\u001b[39m, data_len, \u001b[39m2\u001b[39m):\n\u001b[0;32m     <a href='vscode-notebook-cell:/c%3A/D/Machine%20Learning/Steganography/Project/encode.ipynb#X40sZmlsZQ%3D%3D?line=28'>29</a>\u001b[0m     index \u001b[39m=\u001b[39m lfsr\u001b[39m.\u001b[39mstate\n",
      "File \u001b[1;32mc:\\Users\\USER\\AppData\\Local\\Programs\\Python\\Python310\\lib\\site-packages\\pylfsr\\pylfsr.py:494\u001b[0m, in \u001b[0;36mLFSR.__init__\u001b[1;34m(self, fpoly, initstate, conf, seq_bit_index, verbose, counter_start_zero)\u001b[0m\n\u001b[0;32m    492\u001b[0m \u001b[39mself\u001b[39m\u001b[39m.\u001b[39mverbose \u001b[39m=\u001b[39m verbose\n\u001b[0;32m    493\u001b[0m \u001b[39mself\u001b[39m\u001b[39m.\u001b[39mupdate()\n\u001b[1;32m--> 494\u001b[0m \u001b[39mself\u001b[39;49m\u001b[39m.\u001b[39;49mcheck()\n\u001b[0;32m    495\u001b[0m \u001b[39mself\u001b[39m\u001b[39m.\u001b[39mseq \u001b[39m=\u001b[39m  np\u001b[39m.\u001b[39marray([\u001b[39m-\u001b[39m\u001b[39m1\u001b[39m]) \u001b[39mif\u001b[39;00m counter_start_zero \u001b[39melse\u001b[39;00m np\u001b[39m.\u001b[39marray([\u001b[39mself\u001b[39m\u001b[39m.\u001b[39mstate[\u001b[39mself\u001b[39m\u001b[39m.\u001b[39mseq_bit_index]])\n\u001b[0;32m    496\u001b[0m \u001b[39mself\u001b[39m\u001b[39m.\u001b[39moutbit \u001b[39m=\u001b[39m \u001b[39m-\u001b[39m\u001b[39m1\u001b[39m \u001b[39mif\u001b[39;00m counter_start_zero \u001b[39melse\u001b[39;00m \u001b[39mself\u001b[39m\u001b[39m.\u001b[39mstate[\u001b[39mself\u001b[39m\u001b[39m.\u001b[39mseq_bit_index]\n",
      "File \u001b[1;32mc:\\Users\\USER\\AppData\\Local\\Programs\\Python\\Python310\\lib\\site-packages\\pylfsr\\pylfsr.py:528\u001b[0m, in \u001b[0;36mLFSR.check\u001b[1;34m(self)\u001b[0m\n\u001b[0;32m    525\u001b[0m \u001b[39m# Check Feedback Polynomial\u001b[39;00m\n\u001b[0;32m    526\u001b[0m \u001b[39m# ------------------------\u001b[39;00m\n\u001b[0;32m    527\u001b[0m \u001b[39mif\u001b[39;00m np\u001b[39m.\u001b[39mmax(\u001b[39mself\u001b[39m\u001b[39m.\u001b[39mfpoly) \u001b[39m>\u001b[39m \u001b[39mself\u001b[39m\u001b[39m.\u001b[39minitstate\u001b[39m.\u001b[39mshape[\u001b[39m0\u001b[39m] \u001b[39mor\u001b[39;00m np\u001b[39m.\u001b[39mmin(\u001b[39mself\u001b[39m\u001b[39m.\u001b[39mfpoly) \u001b[39m<\u001b[39m \u001b[39m1\u001b[39m \u001b[39mor\u001b[39;00m \u001b[39mlen\u001b[39m(\u001b[39mself\u001b[39m\u001b[39m.\u001b[39mfpoly) \u001b[39m<\u001b[39m \u001b[39m2\u001b[39m:\n\u001b[1;32m--> 528\u001b[0m     \u001b[39mraise\u001b[39;00m \u001b[39mValueError\u001b[39;00m(\u001b[39m'\u001b[39m\u001b[39mInvalid feedback polynomial: Order of feedback polynomial can not be less than 2 or greater than length of state vector. \u001b[39m\u001b[39m\\n\u001b[39;00m\u001b[39m Polynomial also can not have negative or zeros powers\u001b[39m\u001b[39m'\u001b[39m)\n\u001b[0;32m    530\u001b[0m \u001b[39mif\u001b[39;00m \u001b[39mlen\u001b[39m(\u001b[39mset\u001b[39m(\u001b[39mself\u001b[39m\u001b[39m.\u001b[39mfpoly))\u001b[39m!=\u001b[39m\u001b[39mlen\u001b[39m(\u001b[39mself\u001b[39m\u001b[39m.\u001b[39mfpoly):\n\u001b[0;32m    531\u001b[0m     \u001b[39mraise\u001b[39;00m \u001b[39mValueError\u001b[39;00m(\u001b[39m'\u001b[39m\u001b[39mInvalid feedback polynomial: feedback polynomial vector should have unique powers\u001b[39m\u001b[39m'\u001b[39m)\n",
      "\u001b[1;31mValueError\u001b[0m: Invalid feedback polynomial: Order of feedback polynomial can not be less than 2 or greater than length of state vector. \n Polynomial also can not have negative or zeros powers"
     ]
    }
   ],
   "source": [
    "encode(\"images/img1.jpeg\", \"data here\", [0.1, 0.1], [1,0,1])"
   ]
  }
 ],
 "metadata": {
  "kernelspec": {
   "display_name": "Python 3",
   "language": "python",
   "name": "python3"
  },
  "language_info": {
   "codemirror_mode": {
    "name": "ipython",
    "version": 3
   },
   "file_extension": ".py",
   "mimetype": "text/x-python",
   "name": "python",
   "nbconvert_exporter": "python",
   "pygments_lexer": "ipython3",
   "version": "3.10.8"
  },
  "orig_nbformat": 4
 },
 "nbformat": 4,
 "nbformat_minor": 2
}
